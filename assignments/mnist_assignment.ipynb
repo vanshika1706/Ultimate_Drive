{
 "cells": [
  {
   "cell_type": "code",
   "execution_count": 1,
   "metadata": {},
   "outputs": [],
   "source": [
    "import tensorflow as tf\n",
    "import numpy as np\n",
    "import matplotlib.pyplot as plt"
   ]
  },
  {
   "cell_type": "code",
   "execution_count": 2,
   "metadata": {},
   "outputs": [],
   "source": [
    "(x_train, y_train), (x_test, y_test) = tf.keras. \\\n",
    "                                datasets.mnist.load_data()"
   ]
  },
  {
   "cell_type": "code",
   "execution_count": 3,
   "metadata": {},
   "outputs": [],
   "source": [
    "# print('Training input: ', x_train.shape)\n",
    "# print('Test input: ', x_test.shape)\n",
    "# plt.imshow(x_train[0])\n",
    "# print('first 10 outputs: ', y_train[:10])"
   ]
  },
  {
   "cell_type": "code",
   "execution_count": 4,
   "metadata": {},
   "outputs": [],
   "source": [
    "x_train = x_train.reshape(60000, 28*28).astype('float32')/255\n",
    "x_test = x_test.reshape(10000, 28*28).astype('float32')/255"
   ]
  },
  {
   "cell_type": "code",
   "execution_count": 5,
   "metadata": {},
   "outputs": [],
   "source": [
    "# print(x_train.shape)\n",
    "# print(x_test.shape)\n",
    "# print(y_train.shape)\n",
    "# print(y_test.shape)"
   ]
  },
  {
   "cell_type": "code",
   "execution_count": 6,
   "metadata": {},
   "outputs": [],
   "source": [
    "from tensorflow.keras.models import Sequential\n",
    "from tensorflow.keras.layers import Dense"
   ]
  },
  {
   "cell_type": "code",
   "execution_count": 7,
   "metadata": {},
   "outputs": [],
   "source": [
    "# Initialize model\n",
    "model = Sequential()\n",
    "\n",
    "# Add layers\n",
    "model.add(Dense(300, activation='relu', input_shape=(784,)))\n",
    "model.add(Dense(200, activation='relu'))\n",
    "model.add(Dense(100, activation='relu'))\n",
    "model.add(Dense(10, activation='softmax'))"
   ]
  },
  {
   "cell_type": "code",
   "execution_count": 8,
   "metadata": {},
   "outputs": [],
   "source": [
    "# compile the model\n",
    "model.compile(loss='sparse_categorical_crossentropy',\n",
    "              optimizer='adam',\n",
    "              metrics=['accuracy'])"
   ]
  },
  {
   "cell_type": "code",
   "execution_count": 9,
   "metadata": {},
   "outputs": [
    {
     "name": "stdout",
     "output_type": "stream",
     "text": [
      "Train on 48000 samples, validate on 12000 samples\n",
      "Epoch 1/10\n",
      "48000/48000 [==============================] - 5s 112us/sample - loss: 0.2509 - accuracy: 0.9245 - val_loss: 0.1221 - val_accuracy: 0.9635\n",
      "Epoch 2/10\n",
      "48000/48000 [==============================] - 5s 96us/sample - loss: 0.0963 - accuracy: 0.9710 - val_loss: 0.1009 - val_accuracy: 0.9689\n",
      "Epoch 3/10\n",
      "48000/48000 [==============================] - 5s 114us/sample - loss: 0.0667 - accuracy: 0.9793 - val_loss: 0.0918 - val_accuracy: 0.9739\n",
      "Epoch 4/10\n",
      "48000/48000 [==============================] - 7s 142us/sample - loss: 0.0504 - accuracy: 0.9838 - val_loss: 0.0825 - val_accuracy: 0.9758\n",
      "Epoch 5/10\n",
      "48000/48000 [==============================] - 6s 115us/sample - loss: 0.0359 - accuracy: 0.9886 - val_loss: 0.0889 - val_accuracy: 0.9747\n",
      "Epoch 6/10\n",
      "48000/48000 [==============================] - 5s 109us/sample - loss: 0.0319 - accuracy: 0.9895 - val_loss: 0.0970 - val_accuracy: 0.9751\n",
      "Epoch 7/10\n",
      "48000/48000 [==============================] - 6s 121us/sample - loss: 0.0269 - accuracy: 0.9909 - val_loss: 0.0938 - val_accuracy: 0.9752\n",
      "Epoch 8/10\n",
      "48000/48000 [==============================] - 6s 132us/sample - loss: 0.0250 - accuracy: 0.9919 - val_loss: 0.0879 - val_accuracy: 0.9793\n",
      "Epoch 9/10\n",
      "48000/48000 [==============================] - 8s 157us/sample - loss: 0.0210 - accuracy: 0.9935 - val_loss: 0.1021 - val_accuracy: 0.9758\n",
      "Epoch 10/10\n",
      "48000/48000 [==============================] - 7s 149us/sample - loss: 0.0184 - accuracy: 0.9939 - val_loss: 0.1195 - val_accuracy: 0.9742\n"
     ]
    }
   ],
   "source": [
    "NO_EPOCHS = 10\n",
    "history = model.fit(x_train, y_train,\n",
    "                   batch_size=64,\n",
    "                   epochs=NO_EPOCHS,\n",
    "                   validation_split=0.2)"
   ]
  },
  {
   "cell_type": "code",
   "execution_count": 10,
   "metadata": {},
   "outputs": [
    {
     "data": {
      "text/plain": [
       "0.9747"
      ]
     },
     "execution_count": 10,
     "metadata": {},
     "output_type": "execute_result"
    }
   ],
   "source": [
    "model.evaluate(x_test,y_test,verbose=0)[1]"
   ]
  },
  {
   "cell_type": "markdown",
   "metadata": {},
   "source": [
    "Refer to <a href=\"https://machinelearningmastery.com/save-load-keras-deep-learning-models/\">this link </a> for saving model or using saved model"
   ]
  },
  {
   "cell_type": "code",
   "execution_count": 11,
   "metadata": {},
   "outputs": [],
   "source": [
    "# serialize model to json\n",
    "\n",
    "model_json = model.to_json()\n",
    "with open('model.json', 'w') as json_file:\n",
    "    json_file.write(model_json)"
   ]
  },
  {
   "cell_type": "code",
   "execution_count": 12,
   "metadata": {},
   "outputs": [
    {
     "name": "stdout",
     "output_type": "stream",
     "text": [
      "Saved model to disk\n"
     ]
    }
   ],
   "source": [
    "# serialize weights to HDF5\n",
    "model.save_weights('model.h5')\n",
    "print(\"Saved model to disk\")"
   ]
  },
  {
   "cell_type": "code",
   "execution_count": null,
   "metadata": {},
   "outputs": [],
   "source": []
  }
 ],
 "metadata": {
  "kernelspec": {
   "display_name": "Python 3",
   "language": "python",
   "name": "python3"
  },
  "language_info": {
   "codemirror_mode": {
    "name": "ipython",
    "version": 3
   },
   "file_extension": ".py",
   "mimetype": "text/x-python",
   "name": "python",
   "nbconvert_exporter": "python",
   "pygments_lexer": "ipython3",
   "version": "3.7.3"
  }
 },
 "nbformat": 4,
 "nbformat_minor": 4
}
